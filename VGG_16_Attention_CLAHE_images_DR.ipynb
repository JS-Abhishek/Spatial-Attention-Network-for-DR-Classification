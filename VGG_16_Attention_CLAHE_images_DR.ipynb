{
  "nbformat": 4,
  "nbformat_minor": 0,
  "metadata": {
    "colab": {
      "name": "VGG-16 Attention DR.ipynb",
      "provenance": [],
      "include_colab_link": true
    },
    "kernelspec": {
      "name": "python3",
      "display_name": "Python 3"
    },
    "language_info": {
      "name": "python"
    },
    "accelerator": "GPU"
  },
  "cells": [
    {
      "cell_type": "markdown",
      "metadata": {
        "id": "view-in-github",
        "colab_type": "text"
      },
      "source": [
        "<a href=\"https://colab.research.google.com/github/JS-Abhishek/Spatial-Attention-Network-for-DR-Classification/blob/main/VGG_16_Attention_CLAHE_images_DR.ipynb\" target=\"_parent\"><img src=\"https://colab.research.google.com/assets/colab-badge.svg\" alt=\"Open In Colab\"/></a>"
      ]
    },
    {
      "cell_type": "code",
      "metadata": {
        "id": "FS3DGgdigABf"
      },
      "source": [
        "%reload_ext autoreload\n",
        "%autoreload 2\n",
        "%matplotlib inline"
      ],
      "execution_count": null,
      "outputs": []
    },
    {
      "cell_type": "code",
      "metadata": {
        "colab": {
          "base_uri": "https://localhost:8080/"
        },
        "id": "VmXBfq2IgM88",
        "outputId": "82e2e308-c9bb-4ed4-d6e9-7fdee15d35e6"
      },
      "source": [
        "!nvidia-smi"
      ],
      "execution_count": null,
      "outputs": [
        {
          "output_type": "stream",
          "text": [
            "Sat May 29 12:20:25 2021       \n",
            "+-----------------------------------------------------------------------------+\n",
            "| NVIDIA-SMI 465.19.01    Driver Version: 460.32.03    CUDA Version: 11.2     |\n",
            "|-------------------------------+----------------------+----------------------+\n",
            "| GPU  Name        Persistence-M| Bus-Id        Disp.A | Volatile Uncorr. ECC |\n",
            "| Fan  Temp  Perf  Pwr:Usage/Cap|         Memory-Usage | GPU-Util  Compute M. |\n",
            "|                               |                      |               MIG M. |\n",
            "|===============================+======================+======================|\n",
            "|   0  Tesla T4            Off  | 00000000:00:04.0 Off |                    0 |\n",
            "| N/A   45C    P8     9W /  70W |      0MiB / 15109MiB |      0%      Default |\n",
            "|                               |                      |                  N/A |\n",
            "+-------------------------------+----------------------+----------------------+\n",
            "                                                                               \n",
            "+-----------------------------------------------------------------------------+\n",
            "| Processes:                                                                  |\n",
            "|  GPU   GI   CI        PID   Type   Process name                  GPU Memory |\n",
            "|        ID   ID                                                   Usage      |\n",
            "|=============================================================================|\n",
            "|  No running processes found                                                 |\n",
            "+-----------------------------------------------------------------------------+\n"
          ],
          "name": "stdout"
        }
      ]
    },
    {
      "cell_type": "code",
      "metadata": {
        "colab": {
          "base_uri": "https://localhost:8080/"
        },
        "id": "2lkzxyqZgPAp",
        "outputId": "f3ea10fa-64ad-4575-e744-ab3191d274d9"
      },
      "source": [
        "from google.colab import drive\n",
        "drive.mount('/content/gdrive/')"
      ],
      "execution_count": null,
      "outputs": [
        {
          "output_type": "stream",
          "text": [
            "Mounted at /content/gdrive/\n"
          ],
          "name": "stdout"
        }
      ]
    },
    {
      "cell_type": "code",
      "metadata": {
        "id": "rTdCcjNUgR8v"
      },
      "source": [
        "import random \n",
        "from numpy.random import seed\n",
        "from keras import backend as K\n",
        "from keras.models import Model\n",
        "from keras.models import Sequential\n",
        "from keras.layers import Flatten, Dense, Dropout, Permute, Lambda, Conv2D, multiply, Concatenate, concatenate, BatchNormalization, GlobalAveragePooling2D\n",
        "from keras.preprocessing.image import ImageDataGenerator\n",
        "import numpy as np\n",
        "import os, time\n",
        "import tensorflow as tf\n",
        "import math\n",
        "from keras.callbacks import LearningRateScheduler\n",
        "from keras import optimizers"
      ],
      "execution_count": null,
      "outputs": []
    },
    {
      "cell_type": "code",
      "metadata": {
        "id": "6N4smV4ph8YN"
      },
      "source": [
        "def spatial_attention(input_feature):\n",
        "  kernel_size = 7\n",
        "  if K.image_data_format() == \"channels_first\":\n",
        "    channel = input_feature.shape[1]\n",
        "    cbam_feature = Permute((2,3,1))(input_feature)\n",
        "  else:\n",
        "    channel = input_feature.shape[-1]\n",
        "    cbam_feature = input_feature\n",
        "  \n",
        "  avg_pool = Lambda(lambda x: K.mean(x, axis=3, keepdims=True))(cbam_feature)\n",
        "  assert avg_pool.shape[-1] == 1\n",
        "  max_pool = Lambda(lambda x: K.max(x, axis=3, keepdims=True))(cbam_feature)\n",
        "  assert max_pool.shape[-1] == 1\n",
        "  concat = Concatenate(axis=3)([avg_pool, max_pool])\n",
        "  assert concat.shape[-1] == 2\n",
        "  cbam_feature = Conv2D(filters = 1,\n",
        "                        kernel_size = kernel_size,\n",
        "                        strides = 1,\n",
        "                        padding='same',\n",
        "                        activation = 'sigmoid',\n",
        "                        kernel_initializer='he_normal',\n",
        "                        use_bias=False)(concat)\n",
        "  assert cbam_feature.shape[-1] == 1\n",
        "\n",
        "  if K.image_data_format() == \"channels_first\":\n",
        "    cbam_feature = Permute((3,1,2))(cbam_feature)\n",
        "  x1 = concatenate([input_feature, cbam_feature])\n",
        "  return x1 "
      ],
      "execution_count": null,
      "outputs": []
    },
    {
      "cell_type": "code",
      "metadata": {
        "id": "NCvPqtehiUgA"
      },
      "source": [
        "train_dir = '/content/gdrive/MyDrive/Training/JS/train_clahe/'\n",
        "test_dir = '/content/gdrive/MyDrive/Training/JS/test_clahe/'"
      ],
      "execution_count": null,
      "outputs": []
    },
    {
      "cell_type": "code",
      "metadata": {
        "id": "2QGrlzm6mYwz"
      },
      "source": [
        "IMAGE_SIZE = (256,256)\n",
        "NUM_CLASSES = len(os.listdir(train_dir))\n",
        "BATCH_SIZE = 32\n",
        "NUM_EPOCHS = 20\n",
        "LEARNING_RATE = 0.0001"
      ],
      "execution_count": null,
      "outputs": []
    },
    {
      "cell_type": "code",
      "metadata": {
        "id": "tsMakfzafk6Q"
      },
      "source": [
        "def step_decay(epoch):\n",
        "  initial_lrate = 0.0001\n",
        "  drop = 0.4\n",
        "  epochs_drop = 4.0\n",
        "  lrate = initial_lrate * math.pow(drop, math.floor((1+epoch)/epochs_drop))\n",
        "  return lrate"
      ],
      "execution_count": null,
      "outputs": []
    },
    {
      "cell_type": "code",
      "metadata": {
        "id": "svmksDr3f7wn"
      },
      "source": [
        "train_datagen = ImageDataGenerator(rescale=1./255,\n",
        "                                   rotation_range = 50,\n",
        "                                   width_shift_range = 0.2,\n",
        "                                   height_shift_range = 0.2,\n",
        "                                   shear_range = 0.25,\n",
        "                                   zoom_range = 0.1,\n",
        "                                   channel_shift_range = 20,\n",
        "                                   horizontal_flip = True,\n",
        "                                   vertical_flip = True,\n",
        "                                   validation_split=0.2,\n",
        "                                   fill_mode='constant')"
      ],
      "execution_count": null,
      "outputs": []
    },
    {
      "cell_type": "code",
      "metadata": {
        "colab": {
          "base_uri": "https://localhost:8080/"
        },
        "id": "zWUWfvuXgdIn",
        "outputId": "6ddf39a7-971c-40a9-ecbe-f19f2ba88354"
      },
      "source": [
        "train_batches = train_datagen.flow_from_directory(\n",
        "    train_dir,\n",
        "    target_size = IMAGE_SIZE,\n",
        "    shuffle = True,\n",
        "    batch_size = BATCH_SIZE,\n",
        "    subset = \"training\",\n",
        "    seed = 42,\n",
        "    class_mode = \"categorical\"\n",
        "    )\n",
        "\n",
        "val_generator = train_datagen.flow_from_directory(\n",
        "    train_dir,\n",
        "    target_size = IMAGE_SIZE,\n",
        "    shuffle = True,\n",
        "    batch_size = BATCH_SIZE,\n",
        "    subset = \"validation\",\n",
        "    seed = 42,\n",
        "    class_mode = \"categorical\"\n",
        ")"
      ],
      "execution_count": null,
      "outputs": [
        {
          "output_type": "stream",
          "text": [
            "Found 17919 images belonging to 5 classes.\n",
            "Found 4477 images belonging to 5 classes.\n"
          ],
          "name": "stdout"
        }
      ]
    },
    {
      "cell_type": "code",
      "metadata": {
        "id": "8yTJzivPji-E",
        "colab": {
          "base_uri": "https://localhost:8080/"
        },
        "outputId": "67b8f73c-5916-4c91-9fab-79de871286fe"
      },
      "source": [
        "from keras.applications.vgg16 import VGG16\n",
        "\n",
        "conv_base = VGG16(weights = 'imagenet',\n",
        "                  include_top = False,\n",
        "                  input_shape = (256, 256, 3))"
      ],
      "execution_count": null,
      "outputs": [
        {
          "output_type": "stream",
          "text": [
            "Downloading data from https://storage.googleapis.com/tensorflow/keras-applications/vgg16/vgg16_weights_tf_dim_ordering_tf_kernels_notop.h5\n",
            "58892288/58889256 [==============================] - 1s 0us/step\n",
            "58900480/58889256 [==============================] - 1s 0us/step\n"
          ],
          "name": "stdout"
        }
      ]
    },
    {
      "cell_type": "code",
      "metadata": {
        "id": "IF39D66BjytK"
      },
      "source": [
        "layer_names = [layer.name for layer in conv_base.layers]"
      ],
      "execution_count": null,
      "outputs": []
    },
    {
      "cell_type": "code",
      "metadata": {
        "id": "ArM2iLU0lgIB"
      },
      "source": [
        "layer_names"
      ],
      "execution_count": null,
      "outputs": []
    },
    {
      "cell_type": "code",
      "metadata": {
        "colab": {
          "base_uri": "https://localhost:8080/"
        },
        "id": "JcuJK9qklvqr",
        "outputId": "91fecf12-a018-4482-c952-7b76376378fa"
      },
      "source": [
        "conv_base.get_layer('block4_pool').output"
      ],
      "execution_count": null,
      "outputs": [
        {
          "output_type": "execute_result",
          "data": {
            "text/plain": [
              "<KerasTensor: shape=(None, 16, 16, 512) dtype=float32 (created by layer 'block4_pool')>"
            ]
          },
          "metadata": {
            "tags": []
          },
          "execution_count": 14
        }
      ]
    },
    {
      "cell_type": "code",
      "metadata": {
        "id": "HRmtE4XHkB7D"
      },
      "source": [
        "conv_base = Model(inputs=conv_base.inputs, outputs=conv_base.get_layer('block4_pool').output)"
      ],
      "execution_count": null,
      "outputs": []
    },
    {
      "cell_type": "code",
      "metadata": {
        "id": "S4bpziuMkRjN"
      },
      "source": [
        "def fine_tune(conv_base):\n",
        "  for layers in conv_base.layers:\n",
        "    layers.trainable = True\n",
        "  model = Sequential()\n",
        "  model.add(conv_base)\n",
        "  model.add(Flatten())\n",
        "  model.add(Dropout(0.5))\n",
        "  model.add(Dense(256, activation='relu'))\n",
        "  model.add(Dense(NUM_CLASSES, activation='softmax'))\n",
        "  print(model.summary())\n",
        "  return model"
      ],
      "execution_count": null,
      "outputs": []
    },
    {
      "cell_type": "code",
      "metadata": {
        "id": "zG0PUYl0lX8v"
      },
      "source": [
        "def Trunc_VGG(conv_base):\n",
        "  conv_base.trainable = True\n",
        "  layer_4th = conv_base.get_layer('block4_pool').output\n",
        "  attention_module = spatial_attention(layer_4th)\n",
        "  print(attention_module.shape)\n",
        "  flatten = Flatten()(attention_module)\n",
        "  dropout = Dropout(0.5)(flatten)\n",
        "  dense = Dense(256, activation='relu')(dropout)\n",
        "  pred = (Dense(NUM_CLASSES, activation='softmax'))(dense)\n",
        "  model = Model(inputs = conv_base.inputs, outputs = pred)\n",
        "  return model\n"
      ],
      "execution_count": null,
      "outputs": []
    },
    {
      "cell_type": "code",
      "metadata": {
        "colab": {
          "base_uri": "https://localhost:8080/"
        },
        "id": "O8bGODEBmRZp",
        "outputId": "8c9e5cfb-21c9-4102-df0f-cd5ff765ce6d"
      },
      "source": [
        "#train_s_time = time.clock()\n",
        "model = Trunc_VGG(conv_base)\n",
        "\n",
        "STEP_SIZE_TRAIN = train_batches.n//train_batches.batch_size\n",
        "STEP_SIZE_VALID = val_generator.n//val_generator.batch_size"
      ],
      "execution_count": null,
      "outputs": [
        {
          "output_type": "stream",
          "text": [
            "(None, 16, 16, 513)\n"
          ],
          "name": "stdout"
        }
      ]
    },
    {
      "cell_type": "code",
      "metadata": {
        "id": "o-wYfoc2nSw2",
        "colab": {
          "base_uri": "https://localhost:8080/"
        },
        "outputId": "807a88dc-cbad-44fc-eaa4-243a8a623b11"
      },
      "source": [
        "model.compile(loss = 'categorical_crossentropy', \n",
        "              optimizer = optimizers.Adam(lr = LEARNING_RATE),\n",
        "              metrics = ['acc'])"
      ],
      "execution_count": null,
      "outputs": [
        {
          "output_type": "stream",
          "text": [
            "/usr/local/lib/python3.7/dist-packages/tensorflow/python/keras/optimizer_v2/optimizer_v2.py:375: UserWarning: The `lr` argument is deprecated, use `learning_rate` instead.\n",
            "  \"The `lr` argument is deprecated, use `learning_rate` instead.\")\n"
          ],
          "name": "stderr"
        }
      ]
    },
    {
      "cell_type": "code",
      "metadata": {
        "colab": {
          "base_uri": "https://localhost:8080/"
        },
        "id": "rjAQ1bS94_aj",
        "outputId": "8ae24e09-f381-4ba5-974f-627b667d2b2e"
      },
      "source": [
        "print(model.summary())"
      ],
      "execution_count": null,
      "outputs": [
        {
          "output_type": "stream",
          "text": [
            "Model: \"model_1\"\n",
            "__________________________________________________________________________________________________\n",
            "Layer (type)                    Output Shape         Param #     Connected to                     \n",
            "==================================================================================================\n",
            "input_1 (InputLayer)            [(None, 256, 256, 3) 0                                            \n",
            "__________________________________________________________________________________________________\n",
            "block1_conv1 (Conv2D)           (None, 256, 256, 64) 1792        input_1[0][0]                    \n",
            "__________________________________________________________________________________________________\n",
            "block1_conv2 (Conv2D)           (None, 256, 256, 64) 36928       block1_conv1[0][0]               \n",
            "__________________________________________________________________________________________________\n",
            "block1_pool (MaxPooling2D)      (None, 128, 128, 64) 0           block1_conv2[0][0]               \n",
            "__________________________________________________________________________________________________\n",
            "block2_conv1 (Conv2D)           (None, 128, 128, 128 73856       block1_pool[0][0]                \n",
            "__________________________________________________________________________________________________\n",
            "block2_conv2 (Conv2D)           (None, 128, 128, 128 147584      block2_conv1[0][0]               \n",
            "__________________________________________________________________________________________________\n",
            "block2_pool (MaxPooling2D)      (None, 64, 64, 128)  0           block2_conv2[0][0]               \n",
            "__________________________________________________________________________________________________\n",
            "block3_conv1 (Conv2D)           (None, 64, 64, 256)  295168      block2_pool[0][0]                \n",
            "__________________________________________________________________________________________________\n",
            "block3_conv2 (Conv2D)           (None, 64, 64, 256)  590080      block3_conv1[0][0]               \n",
            "__________________________________________________________________________________________________\n",
            "block3_conv3 (Conv2D)           (None, 64, 64, 256)  590080      block3_conv2[0][0]               \n",
            "__________________________________________________________________________________________________\n",
            "block3_pool (MaxPooling2D)      (None, 32, 32, 256)  0           block3_conv3[0][0]               \n",
            "__________________________________________________________________________________________________\n",
            "block4_conv1 (Conv2D)           (None, 32, 32, 512)  1180160     block3_pool[0][0]                \n",
            "__________________________________________________________________________________________________\n",
            "block4_conv2 (Conv2D)           (None, 32, 32, 512)  2359808     block4_conv1[0][0]               \n",
            "__________________________________________________________________________________________________\n",
            "block4_conv3 (Conv2D)           (None, 32, 32, 512)  2359808     block4_conv2[0][0]               \n",
            "__________________________________________________________________________________________________\n",
            "block4_pool (MaxPooling2D)      (None, 16, 16, 512)  0           block4_conv3[0][0]               \n",
            "__________________________________________________________________________________________________\n",
            "lambda (Lambda)                 (None, 16, 16, 1)    0           block4_pool[0][0]                \n",
            "__________________________________________________________________________________________________\n",
            "lambda_1 (Lambda)               (None, 16, 16, 1)    0           block4_pool[0][0]                \n",
            "__________________________________________________________________________________________________\n",
            "concatenate (Concatenate)       (None, 16, 16, 2)    0           lambda[0][0]                     \n",
            "                                                                 lambda_1[0][0]                   \n",
            "__________________________________________________________________________________________________\n",
            "conv2d (Conv2D)                 (None, 16, 16, 1)    98          concatenate[0][0]                \n",
            "__________________________________________________________________________________________________\n",
            "concatenate_1 (Concatenate)     (None, 16, 16, 513)  0           block4_pool[0][0]                \n",
            "                                                                 conv2d[0][0]                     \n",
            "__________________________________________________________________________________________________\n",
            "flatten (Flatten)               (None, 131328)       0           concatenate_1[0][0]              \n",
            "__________________________________________________________________________________________________\n",
            "dropout (Dropout)               (None, 131328)       0           flatten[0][0]                    \n",
            "__________________________________________________________________________________________________\n",
            "dense (Dense)                   (None, 256)          33620224    dropout[0][0]                    \n",
            "__________________________________________________________________________________________________\n",
            "dense_1 (Dense)                 (None, 5)            1285        dense[0][0]                      \n",
            "==================================================================================================\n",
            "Total params: 41,256,871\n",
            "Trainable params: 41,256,871\n",
            "Non-trainable params: 0\n",
            "__________________________________________________________________________________________________\n",
            "None\n"
          ],
          "name": "stdout"
        }
      ]
    },
    {
      "cell_type": "code",
      "metadata": {
        "colab": {
          "base_uri": "https://localhost:8080/"
        },
        "id": "m5KPtbe65CTT",
        "outputId": "950a5d86-c3b3-4268-bc18-e7862f7e05a4"
      },
      "source": [
        "lrate = LearningRateScheduler(step_decay)\n",
        "callbacks_list = [lrate]\n",
        "\n",
        "result = model.fit_generator(train_batches,\n",
        "                             steps_per_epoch = STEP_SIZE_TRAIN,\n",
        "                             validation_data = val_generator,\n",
        "                             validation_steps = STEP_SIZE_VALID,\n",
        "                             epochs = NUM_EPOCHS,\n",
        "                             callbacks = callbacks_list\n",
        "                             )"
      ],
      "execution_count": null,
      "outputs": [
        {
          "output_type": "stream",
          "text": [
            "/usr/local/lib/python3.7/dist-packages/keras/engine/training.py:1915: UserWarning: `Model.fit_generator` is deprecated and will be removed in a future version. Please use `Model.fit`, which supports generators.\n",
            "  warnings.warn('`Model.fit_generator` is deprecated and '\n"
          ],
          "name": "stderr"
        },
        {
          "output_type": "stream",
          "text": [
            "Epoch 1/20\n",
            "559/559 [==============================] - 6804s 12s/step - loss: 1.7548 - acc: 0.2781 - val_loss: 1.1669 - val_acc: 0.4957\n",
            "Epoch 2/20\n",
            "559/559 [==============================] - 396s 707ms/step - loss: 1.1431 - acc: 0.5169 - val_loss: 1.0390 - val_acc: 0.5645\n",
            "Epoch 3/20\n",
            "559/559 [==============================] - 392s 701ms/step - loss: 0.9598 - acc: 0.6047 - val_loss: 0.8062 - val_acc: 0.6682\n",
            "Epoch 4/20\n",
            "559/559 [==============================] - 392s 701ms/step - loss: 0.7010 - acc: 0.7120 - val_loss: 0.6061 - val_acc: 0.7489\n",
            "Epoch 5/20\n",
            "559/559 [==============================] - 392s 701ms/step - loss: 0.5924 - acc: 0.7565 - val_loss: 0.5450 - val_acc: 0.7653\n",
            "Epoch 6/20\n",
            "559/559 [==============================] - 392s 700ms/step - loss: 0.5426 - acc: 0.7675 - val_loss: 0.4862 - val_acc: 0.7950\n",
            "Epoch 7/20\n",
            "559/559 [==============================] - 390s 697ms/step - loss: 0.4966 - acc: 0.7923 - val_loss: 0.5292 - val_acc: 0.7682\n",
            "Epoch 8/20\n",
            "559/559 [==============================] - 390s 697ms/step - loss: 0.4210 - acc: 0.8243 - val_loss: 0.3978 - val_acc: 0.8240\n",
            "Epoch 9/20\n",
            "559/559 [==============================] - 391s 699ms/step - loss: 0.3972 - acc: 0.8329 - val_loss: 0.3832 - val_acc: 0.8330\n",
            "Epoch 10/20\n",
            "559/559 [==============================] - 392s 701ms/step - loss: 0.3662 - acc: 0.8454 - val_loss: 0.3938 - val_acc: 0.8253\n",
            "Epoch 11/20\n",
            "559/559 [==============================] - 391s 699ms/step - loss: 0.3479 - acc: 0.8574 - val_loss: 0.3512 - val_acc: 0.8512\n",
            "Epoch 12/20\n",
            "559/559 [==============================] - 389s 696ms/step - loss: 0.3151 - acc: 0.8704 - val_loss: 0.3296 - val_acc: 0.8548\n",
            "Epoch 13/20\n",
            "559/559 [==============================] - 390s 698ms/step - loss: 0.3056 - acc: 0.8754 - val_loss: 0.3260 - val_acc: 0.8617\n",
            "Epoch 14/20\n",
            "559/559 [==============================] - 391s 699ms/step - loss: 0.2991 - acc: 0.8767 - val_loss: 0.3013 - val_acc: 0.8737\n",
            "Epoch 15/20\n",
            "559/559 [==============================] - 391s 700ms/step - loss: 0.2892 - acc: 0.8792 - val_loss: 0.3296 - val_acc: 0.8644\n",
            "Epoch 16/20\n",
            "559/559 [==============================] - 391s 698ms/step - loss: 0.2729 - acc: 0.8867 - val_loss: 0.3001 - val_acc: 0.8732\n",
            "Epoch 17/20\n",
            "559/559 [==============================] - 389s 695ms/step - loss: 0.2648 - acc: 0.8909 - val_loss: 0.2859 - val_acc: 0.8723\n",
            "Epoch 18/20\n",
            "559/559 [==============================] - 390s 698ms/step - loss: 0.2568 - acc: 0.8975 - val_loss: 0.2892 - val_acc: 0.8790\n",
            "Epoch 19/20\n",
            "559/559 [==============================] - 389s 696ms/step - loss: 0.2551 - acc: 0.8944 - val_loss: 0.2838 - val_acc: 0.8797\n",
            "Epoch 20/20\n",
            "559/559 [==============================] - 390s 697ms/step - loss: 0.2503 - acc: 0.8951 - val_loss: 0.2762 - val_acc: 0.8820\n"
          ],
          "name": "stdout"
        }
      ]
    },
    {
      "cell_type": "code",
      "metadata": {
        "id": "M41W6PF25h4x"
      },
      "source": [
        "model.save('VGG-16-DR_iter1.h5')"
      ],
      "execution_count": null,
      "outputs": []
    },
    {
      "cell_type": "code",
      "metadata": {
        "id": "QcBlrKRBscxw"
      },
      "source": [
        "model.save_weights('VGG-16_DR_Weights_iter1')"
      ],
      "execution_count": null,
      "outputs": []
    },
    {
      "cell_type": "code",
      "metadata": {
        "id": "nyzFJXFOvfrS",
        "colab": {
          "base_uri": "https://localhost:8080/",
          "height": 295
        },
        "outputId": "031d8a96-5892-4687-d277-da2d5d722ed1"
      },
      "source": [
        "import matplotlib.pyplot as plt\n",
        "fig1 = plt.figure(1)\n",
        "# summarize history for accuracy\n",
        "plt.plot(result.history['acc'])\n",
        "plt.plot(result.history['val_acc'])\n",
        "plt.title('Model Accuracy')\n",
        "plt.ylabel('Accuracy')\n",
        "plt.xlabel('Epoch')\n",
        "plt.legend(['Training', 'Validation'], loc='upper left')\n",
        "#plt.savefig(root_path + '/' + 'acc.png')\n",
        "plt.show()"
      ],
      "execution_count": null,
      "outputs": [
        {
          "output_type": "display_data",
          "data": {
            "image/png": "[encoded data removed]",
            "text/plain": [
              "<Figure size 432x288 with 1 Axes>"
            ]
          },
          "metadata": {
            "tags": [],
            "needs_background": "light"
          }
        }
      ]
    },
    {
      "cell_type": "code",
      "metadata": {
        "colab": {
          "base_uri": "https://localhost:8080/",
          "height": 295
        },
        "id": "En4q-WbrfaW-",
        "outputId": "a89c1890-7773-4905-d0c5-939c39276944"
      },
      "source": [
        "fig2 = plt.figure(2)\n",
        "plt.plot(result.history['loss'])\n",
        "plt.plot(result.history['val_loss'])\n",
        "plt.title('Model Loss')\n",
        "plt.ylabel('Loss')\n",
        "plt.xlabel('Epoch')\n",
        "plt.legend(['Training', 'Validation'], loc='upper left')\n",
        "#plt.savefig(root_path + '/' + 'loss.png')\n",
        "plt.show()\n"
      ],
      "execution_count": null,
      "outputs": [
        {
          "output_type": "display_data",
          "data": {
            "image/png": "[encoded data removed]",
            "text/plain": [
              "<Figure size 432x288 with 1 Axes>"
            ]
          },
          "metadata": {
            "tags": [],
            "needs_background": "light"
          }
        }
      ]
    },
    {
      "cell_type": "code",
      "metadata": {
        "id": "q-NeXzPXbsm5"
      },
      "source": [
        ""
      ],
      "execution_count": null,
      "outputs": []
    }
  ]
}