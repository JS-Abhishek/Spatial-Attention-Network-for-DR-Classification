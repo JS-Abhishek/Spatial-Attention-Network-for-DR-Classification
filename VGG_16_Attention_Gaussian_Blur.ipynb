{
  "nbformat": 4,
  "nbformat_minor": 0,
  "metadata": {
    "colab": {
      "name": "VGG-16 Attention Gaussian Blur.ipynb",
      "provenance": [],
      "authorship_tag": "ABX9TyOnk+EFhaYmoWNhDbxwG98p",
      "include_colab_link": true
    },
    "kernelspec": {
      "name": "python3",
      "display_name": "Python 3"
    },
    "language_info": {
      "name": "python"
    },
    "accelerator": "GPU"
  },
  "cells": [
    {
      "cell_type": "markdown",
      "metadata": {
        "id": "view-in-github",
        "colab_type": "text"
      },
      "source": [
        "<a href=\"https://colab.research.google.com/github/JS-Abhishek/Spatial-Attention-Network-for-DR-Classification/blob/main/VGG_16_Attention_Gaussian_Blur.ipynb\" target=\"_parent\"><img src=\"https://colab.research.google.com/assets/colab-badge.svg\" alt=\"Open In Colab\"/></a>"
      ]
    },
    {
      "cell_type": "code",
      "metadata": {
        "id": "7Ll3LymNtC2a"
      },
      "source": [
        "%reload_ext autoreload\n",
        "%autoreload 2\n",
        "%matplotlib inline"
      ],
      "execution_count": null,
      "outputs": []
    },
    {
      "cell_type": "code",
      "metadata": {
        "colab": {
          "base_uri": "https://localhost:8080/"
        },
        "id": "6Jp_nEUStN3l",
        "outputId": "550151ab-8f97-40c9-f538-707152c7402a"
      },
      "source": [
        "!nvidia-smi"
      ],
      "execution_count": null,
      "outputs": [
        {
          "output_type": "stream",
          "text": [
            "Sun May 30 05:17:50 2021       \n",
            "+-----------------------------------------------------------------------------+\n",
            "| NVIDIA-SMI 465.19.01    Driver Version: 460.32.03    CUDA Version: 11.2     |\n",
            "|-------------------------------+----------------------+----------------------+\n",
            "| GPU  Name        Persistence-M| Bus-Id        Disp.A | Volatile Uncorr. ECC |\n",
            "| Fan  Temp  Perf  Pwr:Usage/Cap|         Memory-Usage | GPU-Util  Compute M. |\n",
            "|                               |                      |               MIG M. |\n",
            "|===============================+======================+======================|\n",
            "|   0  Tesla T4            Off  | 00000000:00:04.0 Off |                    0 |\n",
            "| N/A   51C    P8    10W /  70W |      0MiB / 15109MiB |      0%      Default |\n",
            "|                               |                      |                  N/A |\n",
            "+-------------------------------+----------------------+----------------------+\n",
            "                                                                               \n",
            "+-----------------------------------------------------------------------------+\n",
            "| Processes:                                                                  |\n",
            "|  GPU   GI   CI        PID   Type   Process name                  GPU Memory |\n",
            "|        ID   ID                                                   Usage      |\n",
            "|=============================================================================|\n",
            "|  No running processes found                                                 |\n",
            "+-----------------------------------------------------------------------------+\n"
          ],
          "name": "stdout"
        }
      ]
    },
    {
      "cell_type": "code",
      "metadata": {
        "colab": {
          "base_uri": "https://localhost:8080/"
        },
        "id": "tC_rep1atPZh",
        "outputId": "f8e6bcb3-acfa-42a1-fd98-ec56040b13f0"
      },
      "source": [
        "from google.colab import drive\n",
        "drive.mount('/content/gdrive/')"
      ],
      "execution_count": null,
      "outputs": [
        {
          "output_type": "stream",
          "text": [
            "Mounted at /content/gdrive/\n"
          ],
          "name": "stdout"
        }
      ]
    },
    {
      "cell_type": "code",
      "metadata": {
        "id": "puf5dTC9tRsf"
      },
      "source": [
        "import random \n",
        "from numpy.random import seed\n",
        "from keras import backend as K\n",
        "from keras.models import Model\n",
        "from keras.models import Sequential\n",
        "from keras.layers import Flatten, Dense, Dropout, Permute, Lambda, Conv2D, multiply, Concatenate, concatenate, BatchNormalization, GlobalAveragePooling2D\n",
        "from keras.preprocessing.image import ImageDataGenerator\n",
        "import numpy as np\n",
        "import os, time\n",
        "import tensorflow as tf\n",
        "import math\n",
        "from keras.callbacks import LearningRateScheduler\n",
        "from keras import optimizers"
      ],
      "execution_count": null,
      "outputs": []
    },
    {
      "cell_type": "code",
      "metadata": {
        "id": "6dGeKLp4tgBS"
      },
      "source": [
        "def spatial_attention(input_feature):\n",
        "  kernel_size = 7\n",
        "  if K.image_data_format() == \"channels_first\":\n",
        "    channel = input_feature.shape[1]\n",
        "    cbam_feature = Permute((2,3,1))(input_feature)\n",
        "  else:\n",
        "    channel = input_feature.shape[-1]\n",
        "    cbam_feature = input_feature\n",
        "  \n",
        "  avg_pool = Lambda(lambda x: K.mean(x, axis=3, keepdims=True))(cbam_feature)\n",
        "  assert avg_pool.shape[-1] == 1\n",
        "  max_pool = Lambda(lambda x: K.max(x, axis=3, keepdims=True))(cbam_feature)\n",
        "  assert max_pool.shape[-1] == 1\n",
        "  concat = Concatenate(axis=3)([avg_pool, max_pool])\n",
        "  assert concat.shape[-1] == 2\n",
        "  cbam_feature = Conv2D(filters = 1,\n",
        "                        kernel_size = kernel_size,\n",
        "                        strides = 1,\n",
        "                        padding='same',\n",
        "                        activation = 'sigmoid',\n",
        "                        kernel_initializer='he_normal',\n",
        "                        use_bias=False)(concat)\n",
        "  assert cbam_feature.shape[-1] == 1\n",
        "\n",
        "  if K.image_data_format() == \"channels_first\":\n",
        "    cbam_feature = Permute((3,1,2))(cbam_feature)\n",
        "  x1 = concatenate([input_feature, cbam_feature])\n",
        "  return x1"
      ],
      "execution_count": null,
      "outputs": []
    },
    {
      "cell_type": "code",
      "metadata": {
        "id": "VMKJyajEtivx"
      },
      "source": [
        "train_dir = '/content/gdrive/MyDrive/Training/JS/train_1/'\n",
        "test_dir = '/content/gdrive/MyDrive/Training/JS/test_1/'"
      ],
      "execution_count": null,
      "outputs": []
    },
    {
      "cell_type": "code",
      "metadata": {
        "id": "EHT_5Eu7tsSn"
      },
      "source": [
        "IMAGE_SIZE = (256,256)\n",
        "NUM_CLASSES = len(os.listdir(train_dir))\n",
        "BATCH_SIZE = 32\n",
        "NUM_EPOCHS = 20\n",
        "LEARNING_RATE = 0.0001"
      ],
      "execution_count": null,
      "outputs": []
    },
    {
      "cell_type": "code",
      "metadata": {
        "id": "KRqMfKgWtvsn"
      },
      "source": [
        "def step_decay(epoch):\n",
        "  initial_lrate = 0.0001\n",
        "  drop = 0.4\n",
        "  epochs_drop = 4.0\n",
        "  lrate = initial_lrate * math.pow(drop, math.floor((1+epoch)/epochs_drop))\n",
        "  return lrate"
      ],
      "execution_count": null,
      "outputs": []
    },
    {
      "cell_type": "code",
      "metadata": {
        "id": "tVijdp04ty9o"
      },
      "source": [
        "train_datagen = ImageDataGenerator(rescale=1./255,\n",
        "                                   rotation_range = 50,\n",
        "                                   width_shift_range = 0.2,\n",
        "                                   height_shift_range = 0.2,\n",
        "                                   shear_range = 0.25,\n",
        "                                   zoom_range = 0.1,\n",
        "                                   channel_shift_range = 20,\n",
        "                                   horizontal_flip = True,\n",
        "                                   vertical_flip = True,\n",
        "                                   validation_split=0.2,\n",
        "                                   fill_mode='constant')"
      ],
      "execution_count": null,
      "outputs": []
    },
    {
      "cell_type": "code",
      "metadata": {
        "colab": {
          "base_uri": "https://localhost:8080/"
        },
        "id": "9eVJwsUzt1hV",
        "outputId": "ee170642-6700-4a76-fadb-f0f491d5506a"
      },
      "source": [
        "train_batches = train_datagen.flow_from_directory(\n",
        "    train_dir,\n",
        "    target_size = IMAGE_SIZE,\n",
        "    shuffle = True,\n",
        "    batch_size = BATCH_SIZE,\n",
        "    subset = \"training\",\n",
        "    seed = 42,\n",
        "    class_mode = \"categorical\"\n",
        "    )\n",
        "\n",
        "val_generator = train_datagen.flow_from_directory(\n",
        "    train_dir,\n",
        "    target_size = IMAGE_SIZE,\n",
        "    shuffle = True,\n",
        "    batch_size = BATCH_SIZE,\n",
        "    subset = \"validation\",\n",
        "    seed = 42,\n",
        "    class_mode = \"categorical\"\n",
        ")"
      ],
      "execution_count": null,
      "outputs": [
        {
          "output_type": "stream",
          "text": [
            "Found 11768 images belonging to 5 classes.\n",
            "Found 2940 images belonging to 5 classes.\n"
          ],
          "name": "stdout"
        }
      ]
    },
    {
      "cell_type": "code",
      "metadata": {
        "colab": {
          "base_uri": "https://localhost:8080/"
        },
        "id": "vwvV7tWZt3oa",
        "outputId": "34154f0e-aa46-4017-9adb-40532493a8da"
      },
      "source": [
        "from keras.applications.vgg16 import VGG16\n",
        "\n",
        "conv_base = VGG16(weights = 'imagenet',\n",
        "                  include_top = False,\n",
        "                  input_shape = (256, 256, 3))"
      ],
      "execution_count": null,
      "outputs": [
        {
          "output_type": "stream",
          "text": [
            "Downloading data from https://storage.googleapis.com/tensorflow/keras-applications/vgg16/vgg16_weights_tf_dim_ordering_tf_kernels_notop.h5\n",
            "58892288/58889256 [==============================] - 0s 0us/step\n",
            "58900480/58889256 [==============================] - 0s 0us/step\n"
          ],
          "name": "stdout"
        }
      ]
    },
    {
      "cell_type": "code",
      "metadata": {
        "id": "rpKupOZduBhA"
      },
      "source": [
        "layer_names = [layer.name for layer in conv_base.layers]"
      ],
      "execution_count": null,
      "outputs": []
    },
    {
      "cell_type": "code",
      "metadata": {
        "colab": {
          "base_uri": "https://localhost:8080/"
        },
        "id": "XYOeg-NruFYa",
        "outputId": "6ea8b6b5-c401-4aae-ef6c-608497ee6998"
      },
      "source": [
        "conv_base.get_layer('block4_pool').output"
      ],
      "execution_count": null,
      "outputs": [
        {
          "output_type": "execute_result",
          "data": {
            "text/plain": [
              "<KerasTensor: shape=(None, 16, 16, 512) dtype=float32 (created by layer 'block4_pool')>"
            ]
          },
          "metadata": {
            "tags": []
          },
          "execution_count": 14
        }
      ]
    },
    {
      "cell_type": "code",
      "metadata": {
        "id": "rUL-rC3muHVW"
      },
      "source": [
        "conv_base = Model(inputs=conv_base.inputs, outputs=conv_base.get_layer('block4_pool').output)"
      ],
      "execution_count": null,
      "outputs": []
    },
    {
      "cell_type": "code",
      "metadata": {
        "id": "LcXlqKD6uJiv"
      },
      "source": [
        "def fine_tune(conv_base):\n",
        "  for layers in conv_base.layers:\n",
        "    layers.trainable = True\n",
        "  model = Sequential()\n",
        "  model.add(conv_base)\n",
        "  model.add(Flatten())\n",
        "  model.add(Dropout(0.5))\n",
        "  model.add(Dense(256, activation='relu'))\n",
        "  model.add(Dense(NUM_CLASSES, activation='softmax'))\n",
        "  print(model.summary())\n",
        "  return model"
      ],
      "execution_count": null,
      "outputs": []
    },
    {
      "cell_type": "code",
      "metadata": {
        "id": "iElWjOfGuLcG"
      },
      "source": [
        "def Trunc_VGG(conv_base):\n",
        "  conv_base.trainable = True\n",
        "  layer_4th = conv_base.get_layer('block4_pool').output\n",
        "  attention_module = spatial_attention(layer_4th)\n",
        "  print(attention_module.shape)\n",
        "  flatten = Flatten()(attention_module)\n",
        "  dropout = Dropout(0.5)(flatten)\n",
        "  dense = Dense(256, activation='relu')(dropout)\n",
        "  pred = (Dense(NUM_CLASSES, activation='softmax'))(dense)\n",
        "  model = Model(inputs = conv_base.inputs, outputs = pred)\n",
        "  return model\n"
      ],
      "execution_count": null,
      "outputs": []
    },
    {
      "cell_type": "code",
      "metadata": {
        "colab": {
          "base_uri": "https://localhost:8080/"
        },
        "id": "6p2PZAIHuPDP",
        "outputId": "e7153602-bda0-4d4e-8514-84dba37b9131"
      },
      "source": [
        "#train_s_time = time.clock()\n",
        "model = Trunc_VGG(conv_base)\n",
        "\n",
        "STEP_SIZE_TRAIN = train_batches.n//train_batches.batch_size\n",
        "STEP_SIZE_VALID = val_generator.n//val_generator.batch_size"
      ],
      "execution_count": null,
      "outputs": [
        {
          "output_type": "stream",
          "text": [
            "(None, 16, 16, 513)\n"
          ],
          "name": "stdout"
        }
      ]
    },
    {
      "cell_type": "code",
      "metadata": {
        "colab": {
          "base_uri": "https://localhost:8080/"
        },
        "id": "u6yBgU8LuRBe",
        "outputId": "0f6c25fb-74c0-426a-8d20-530062d0175f"
      },
      "source": [
        "model.compile(loss = 'categorical_crossentropy', \n",
        "              optimizer = optimizers.Adam(lr = LEARNING_RATE),\n",
        "              metrics = ['acc'])"
      ],
      "execution_count": null,
      "outputs": [
        {
          "output_type": "stream",
          "text": [
            "/usr/local/lib/python3.7/dist-packages/tensorflow/python/keras/optimizer_v2/optimizer_v2.py:375: UserWarning: The `lr` argument is deprecated, use `learning_rate` instead.\n",
            "  \"The `lr` argument is deprecated, use `learning_rate` instead.\")\n"
          ],
          "name": "stderr"
        }
      ]
    },
    {
      "cell_type": "code",
      "metadata": {
        "colab": {
          "base_uri": "https://localhost:8080/"
        },
        "id": "WboutX02ulHO",
        "outputId": "541ae494-2030-4bd8-b317-0a8834bf140e"
      },
      "source": [
        "print(model.summary())"
      ],
      "execution_count": null,
      "outputs": [
        {
          "output_type": "stream",
          "text": [
            "Model: \"model_1\"\n",
            "__________________________________________________________________________________________________\n",
            "Layer (type)                    Output Shape         Param #     Connected to                     \n",
            "==================================================================================================\n",
            "input_1 (InputLayer)            [(None, 256, 256, 3) 0                                            \n",
            "__________________________________________________________________________________________________\n",
            "block1_conv1 (Conv2D)           (None, 256, 256, 64) 1792        input_1[0][0]                    \n",
            "__________________________________________________________________________________________________\n",
            "block1_conv2 (Conv2D)           (None, 256, 256, 64) 36928       block1_conv1[0][0]               \n",
            "__________________________________________________________________________________________________\n",
            "block1_pool (MaxPooling2D)      (None, 128, 128, 64) 0           block1_conv2[0][0]               \n",
            "__________________________________________________________________________________________________\n",
            "block2_conv1 (Conv2D)           (None, 128, 128, 128 73856       block1_pool[0][0]                \n",
            "__________________________________________________________________________________________________\n",
            "block2_conv2 (Conv2D)           (None, 128, 128, 128 147584      block2_conv1[0][0]               \n",
            "__________________________________________________________________________________________________\n",
            "block2_pool (MaxPooling2D)      (None, 64, 64, 128)  0           block2_conv2[0][0]               \n",
            "__________________________________________________________________________________________________\n",
            "block3_conv1 (Conv2D)           (None, 64, 64, 256)  295168      block2_pool[0][0]                \n",
            "__________________________________________________________________________________________________\n",
            "block3_conv2 (Conv2D)           (None, 64, 64, 256)  590080      block3_conv1[0][0]               \n",
            "__________________________________________________________________________________________________\n",
            "block3_conv3 (Conv2D)           (None, 64, 64, 256)  590080      block3_conv2[0][0]               \n",
            "__________________________________________________________________________________________________\n",
            "block3_pool (MaxPooling2D)      (None, 32, 32, 256)  0           block3_conv3[0][0]               \n",
            "__________________________________________________________________________________________________\n",
            "block4_conv1 (Conv2D)           (None, 32, 32, 512)  1180160     block3_pool[0][0]                \n",
            "__________________________________________________________________________________________________\n",
            "block4_conv2 (Conv2D)           (None, 32, 32, 512)  2359808     block4_conv1[0][0]               \n",
            "__________________________________________________________________________________________________\n",
            "block4_conv3 (Conv2D)           (None, 32, 32, 512)  2359808     block4_conv2[0][0]               \n",
            "__________________________________________________________________________________________________\n",
            "block4_pool (MaxPooling2D)      (None, 16, 16, 512)  0           block4_conv3[0][0]               \n",
            "__________________________________________________________________________________________________\n",
            "lambda (Lambda)                 (None, 16, 16, 1)    0           block4_pool[0][0]                \n",
            "__________________________________________________________________________________________________\n",
            "lambda_1 (Lambda)               (None, 16, 16, 1)    0           block4_pool[0][0]                \n",
            "__________________________________________________________________________________________________\n",
            "concatenate (Concatenate)       (None, 16, 16, 2)    0           lambda[0][0]                     \n",
            "                                                                 lambda_1[0][0]                   \n",
            "__________________________________________________________________________________________________\n",
            "conv2d (Conv2D)                 (None, 16, 16, 1)    98          concatenate[0][0]                \n",
            "__________________________________________________________________________________________________\n",
            "concatenate_1 (Concatenate)     (None, 16, 16, 513)  0           block4_pool[0][0]                \n",
            "                                                                 conv2d[0][0]                     \n",
            "__________________________________________________________________________________________________\n",
            "flatten (Flatten)               (None, 131328)       0           concatenate_1[0][0]              \n",
            "__________________________________________________________________________________________________\n",
            "dropout (Dropout)               (None, 131328)       0           flatten[0][0]                    \n",
            "__________________________________________________________________________________________________\n",
            "dense (Dense)                   (None, 256)          33620224    dropout[0][0]                    \n",
            "__________________________________________________________________________________________________\n",
            "dense_1 (Dense)                 (None, 5)            1285        dense[0][0]                      \n",
            "==================================================================================================\n",
            "Total params: 41,256,871\n",
            "Trainable params: 41,256,871\n",
            "Non-trainable params: 0\n",
            "__________________________________________________________________________________________________\n",
            "None\n"
          ],
          "name": "stdout"
        }
      ]
    },
    {
      "cell_type": "code",
      "metadata": {
        "colab": {
          "base_uri": "https://localhost:8080/"
        },
        "id": "0FVs1TosunV5",
        "outputId": "aa977935-50f3-4617-b121-fc77c0a7d88c"
      },
      "source": [
        "lrate = LearningRateScheduler(step_decay)\n",
        "callbacks_list = [lrate]\n",
        "\n",
        "result = model.fit_generator(train_batches,\n",
        "                             steps_per_epoch = STEP_SIZE_TRAIN,\n",
        "                             validation_data = val_generator,\n",
        "                             validation_steps = STEP_SIZE_VALID,\n",
        "                             epochs = NUM_EPOCHS,\n",
        "                             callbacks = callbacks_list\n",
        "                             )"
      ],
      "execution_count": null,
      "outputs": [
        {
          "output_type": "stream",
          "text": [
            "/usr/local/lib/python3.7/dist-packages/keras/engine/training.py:1915: UserWarning: `Model.fit_generator` is deprecated and will be removed in a future version. Please use `Model.fit`, which supports generators.\n",
            "  warnings.warn('`Model.fit_generator` is deprecated and '\n"
          ],
          "name": "stderr"
        },
        {
          "output_type": "stream",
          "text": [
            "Epoch 1/20\n",
            "367/367 [==============================] - 5530s 15s/step - loss: 1.8894 - acc: 0.2556 - val_loss: 1.1962 - val_acc: 0.4955\n",
            "Epoch 2/20\n",
            "367/367 [==============================] - 288s 785ms/step - loss: 1.1841 - acc: 0.4888 - val_loss: 1.0897 - val_acc: 0.5388\n",
            "Epoch 3/20\n",
            "367/367 [==============================] - 287s 781ms/step - loss: 1.0133 - acc: 0.5607 - val_loss: 1.0060 - val_acc: 0.5951\n",
            "Epoch 4/20\n",
            "367/367 [==============================] - 285s 776ms/step - loss: 0.8561 - acc: 0.6426 - val_loss: 0.8497 - val_acc: 0.6590\n",
            "Epoch 5/20\n",
            "367/367 [==============================] - 286s 778ms/step - loss: 0.7808 - acc: 0.6746 - val_loss: 0.7265 - val_acc: 0.6947\n",
            "Epoch 6/20\n",
            "367/367 [==============================] - 284s 775ms/step - loss: 0.7270 - acc: 0.7000 - val_loss: 0.6256 - val_acc: 0.7541\n",
            "Epoch 7/20\n",
            "367/367 [==============================] - 284s 774ms/step - loss: 0.6502 - acc: 0.7364 - val_loss: 0.7373 - val_acc: 0.7050\n",
            "Epoch 8/20\n",
            "367/367 [==============================] - 285s 776ms/step - loss: 0.5845 - acc: 0.7596 - val_loss: 0.5418 - val_acc: 0.7792\n",
            "Epoch 9/20\n",
            "367/367 [==============================] - 285s 776ms/step - loss: 0.5380 - acc: 0.7771 - val_loss: 0.5411 - val_acc: 0.7771\n",
            "Epoch 10/20\n",
            "367/367 [==============================] - 284s 773ms/step - loss: 0.5022 - acc: 0.7966 - val_loss: 0.5687 - val_acc: 0.7819\n",
            "Epoch 11/20\n",
            "367/367 [==============================] - 284s 774ms/step - loss: 0.4926 - acc: 0.7960 - val_loss: 0.4785 - val_acc: 0.8022\n",
            "Epoch 12/20\n",
            "367/367 [==============================] - 286s 778ms/step - loss: 0.4645 - acc: 0.8067 - val_loss: 0.4323 - val_acc: 0.8276\n",
            "Epoch 13/20\n",
            "367/367 [==============================] - 286s 780ms/step - loss: 0.4468 - acc: 0.8098 - val_loss: 0.4497 - val_acc: 0.8214\n",
            "Epoch 14/20\n",
            "367/367 [==============================] - 287s 781ms/step - loss: 0.4341 - acc: 0.8167 - val_loss: 0.4444 - val_acc: 0.8249\n",
            "Epoch 15/20\n",
            "367/367 [==============================] - 284s 774ms/step - loss: 0.4279 - acc: 0.8207 - val_loss: 0.4122 - val_acc: 0.8304\n",
            "Epoch 16/20\n",
            "367/367 [==============================] - 285s 776ms/step - loss: 0.4164 - acc: 0.8280 - val_loss: 0.4059 - val_acc: 0.8438\n",
            "Epoch 17/20\n",
            "367/367 [==============================] - 285s 776ms/step - loss: 0.4159 - acc: 0.8222 - val_loss: 0.3879 - val_acc: 0.8482\n",
            "Epoch 18/20\n",
            "367/367 [==============================] - 286s 778ms/step - loss: 0.4049 - acc: 0.8291 - val_loss: 0.3904 - val_acc: 0.8455\n",
            "Epoch 19/20\n",
            "367/367 [==============================] - 286s 779ms/step - loss: 0.3969 - acc: 0.8329 - val_loss: 0.3837 - val_acc: 0.8503\n",
            "Epoch 20/20\n",
            "367/367 [==============================] - 286s 779ms/step - loss: 0.4017 - acc: 0.8264 - val_loss: 0.3896 - val_acc: 0.8479\n"
          ],
          "name": "stdout"
        }
      ]
    },
    {
      "cell_type": "code",
      "metadata": {
        "id": "xwLLMMPLurtQ"
      },
      "source": [
        "model.save('VGG-16-DR_Gaussian_iter1.h5')"
      ],
      "execution_count": null,
      "outputs": []
    },
    {
      "cell_type": "code",
      "metadata": {
        "id": "ajt3xwy8aASq"
      },
      "source": [
        "model.save_weights('VGG-16_DR_Gaussian_Weights_iter1.h5')"
      ],
      "execution_count": null,
      "outputs": []
    },
    {
      "cell_type": "code",
      "metadata": {
        "colab": {
          "base_uri": "https://localhost:8080/",
          "height": 295
        },
        "id": "xdX5m4hVaGto",
        "outputId": "c9174d1f-7e30-4e58-8f45-7f44bcf9d1de"
      },
      "source": [
        "import matplotlib.pyplot as plt\n",
        "fig1 = plt.figure(1)\n",
        "# summarize history for accuracy\n",
        "plt.plot(result.history['acc'])\n",
        "plt.plot(result.history['val_acc'])\n",
        "plt.title('Model Accuracy')\n",
        "plt.ylabel('Accuracy')\n",
        "plt.xlabel('Epoch')\n",
        "plt.legend(['Training', 'Validation'], loc='upper left')\n",
        "#plt.savefig(root_path + '/' + 'acc.png')\n",
        "plt.show()"
      ],
      "execution_count": null,
      "outputs": [
        {
          "output_type": "display_data",
          "data": {
            "image/png": "[encoded data removed]",
            "text/plain": [
              "<Figure size 432x288 with 1 Axes>"
            ]
          },
          "metadata": {
            "tags": [],
            "needs_background": "light"
          }
        }
      ]
    },
    {
      "cell_type": "code",
      "metadata": {
        "colab": {
          "base_uri": "https://localhost:8080/",
          "height": 295
        },
        "id": "udzKZObsaLUZ",
        "outputId": "7f881ee1-0220-4dde-b841-d9b49f2dbf96"
      },
      "source": [
        "fig2 = plt.figure(2)\n",
        "plt.plot(result.history['loss'])\n",
        "plt.plot(result.history['val_loss'])\n",
        "plt.title('Model Loss')\n",
        "plt.ylabel('Loss')\n",
        "plt.xlabel('Epoch')\n",
        "plt.legend(['Training', 'Validation'], loc='upper left')\n",
        "#plt.savefig(root_path + '/' + 'loss.png')\n",
        "plt.show()\n"
      ],
      "execution_count": null,
      "outputs": [
        {
          "output_type": "display_data",
          "data": {
            "image/png": "[encoded data removed]",
            "text/plain": [
              "<Figure size 432x288 with 1 Axes>"
            ]
          },
          "metadata": {
            "tags": [],
            "needs_background": "light"
          }
        }
      ]
    }
  ]
}